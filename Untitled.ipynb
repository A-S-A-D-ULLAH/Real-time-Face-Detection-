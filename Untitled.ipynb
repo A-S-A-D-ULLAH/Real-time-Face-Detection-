{
 "cells": [
  {
   "cell_type": "code",
   "execution_count": 1,
   "metadata": {},
   "outputs": [],
   "source": [
    "import cv2\n",
    "faceCascade=cv2.CascadeClassifier('haarcascade_frontalface_default.xml')"
   ]
  },
  {
   "cell_type": "code",
   "execution_count": 2,
   "metadata": {},
   "outputs": [],
   "source": [
    "capture=cv2.VideoCapture(0)"
   ]
  },
  {
   "cell_type": "code",
   "execution_count": 3,
   "metadata": {},
   "outputs": [],
   "source": [
    "while True:\n",
    "    boolean, frame=capture.read()\n",
    "    if boolean==True:\n",
    "        GR_img=cv2.cvtColor(frame,cv2.COLOR_BGR2GRAY)\n",
    "        coordinate_list=faceCascade.detectMultiScale(GR_img,scaleFactor=1.1)\n",
    "        for(x,y,w,h) in coordinate_list:\n",
    "             cv2.rectangle(frame, (x,y), (x+w,y+h),(0,255,0),2)\n",
    "        cv2.imshow(\"Live came Face Detection\",frame)\n",
    "        if cv2.waitKey(20)==ord('x'):\n",
    "            break\n",
    "capture.release()\n",
    "cv2.destroyAllWindows()\n",
    "   \n"
   ]
  },
  {
   "cell_type": "code",
   "execution_count": null,
   "metadata": {},
   "outputs": [],
   "source": []
  }
 ],
 "metadata": {
  "kernelspec": {
   "display_name": "Python 3",
   "language": "python",
   "name": "python3"
  },
  "language_info": {
   "codemirror_mode": {
    "name": "ipython",
    "version": 3
   },
   "file_extension": ".py",
   "mimetype": "text/x-python",
   "name": "python",
   "nbconvert_exporter": "python",
   "pygments_lexer": "ipython3",
   "version": "3.8.5"
  }
 },
 "nbformat": 4,
 "nbformat_minor": 4
}
